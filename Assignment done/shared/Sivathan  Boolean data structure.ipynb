{
 "cells": [
  {
   "cell_type": "code",
   "execution_count": null,
   "metadata": {},
   "outputs": [],
   "source": [
    "#Declare a boolean value and store it in a variable. \n",
    "#Check the type and print the id of the same."
   ]
  },
  {
   "cell_type": "code",
   "execution_count": 1,
   "metadata": {},
   "outputs": [
    {
     "name": "stdout",
     "output_type": "stream",
     "text": [
      "<class 'bool'> 140713731074384\n"
     ]
    }
   ],
   "source": [
    "a = True\n",
    "print(type(a),id(a))"
   ]
  },
  {
   "cell_type": "code",
   "execution_count": null,
   "metadata": {},
   "outputs": [],
   "source": [
    "#Take one boolean value between 0 - 256.\n",
    "#Assign it to two different variables.\n",
    "#Check the id of both the variables. It should come same. Check why?"
   ]
  },
  {
   "cell_type": "code",
   "execution_count": 4,
   "metadata": {},
   "outputs": [
    {
     "name": "stdout",
     "output_type": "stream",
     "text": [
      "<class 'bool'> 140713731074416\n",
      "<class 'bool'> 140713731074416\n"
     ]
    }
   ],
   "source": [
    "a = bool(0)\n",
    "b= bool(0)\n",
    "print(type(a),id(a))\n",
    "print(type(b),id(b))"
   ]
  },
  {
   "cell_type": "code",
   "execution_count": null,
   "metadata": {},
   "outputs": [],
   "source": [
    "#Arithmatic Operations on boolean data\n",
    "#Take two different boolean values.\n",
    "#Store them in two different variables.\n",
    "#Do below operations on them:-\n",
    "    #Find sum of both values\n",
    "    #Find differce between them\n",
    "    #Find the product of both.\n",
    "    #Find value after dividing first value with second value\n",
    "    #Find the remainder after dividing first value with second value\n",
    "    #Find the quotient after dividing first value with second value\n",
    "    #Find the result of first value to the power of second value."
   ]
  },
  {
   "cell_type": "code",
   "execution_count": 17,
   "metadata": {},
   "outputs": [
    {
     "name": "stdout",
     "output_type": "stream",
     "text": [
      "sum of the 0 & 3 is True\n",
      "Difference of the 0 & 3 is True\n",
      "Product of the 0 & 3 is False\n",
      "Dividing value of the 0 & 3 is True\n",
      "Reminder value of the 0 & 3 is False\n",
      "Quotient value of the 0 & 3 is True\n",
      "first num 0 is to be powered by num 3 is False\n"
     ]
    }
   ],
   "source": [
    "import math\n",
    "a = 0\n",
    "b = 3\n",
    "print(f'sum of the {a} & {b} is {bool(a+b)}')\n",
    "print(f'Difference of the {a} & {b} is {bool(a-b)}')\n",
    "print(f'Product of the {a} & {b} is {bool(a and b)}')\n",
    "print(f'Dividing value of the {a} & {b} is {bool(a or b)}')\n",
    "print(f'Reminder value of the {a} & {b} is {bool(a%b)}')\n",
    "print(f'Quotient value of the {a} & {b} is {bool(a or b)}')\n",
    "print(f'first num {a} is to be powered by num {b} is {bool(a**b)}')"
   ]
  },
  {
   "cell_type": "code",
   "execution_count": null,
   "metadata": {},
   "outputs": [],
   "source": [
    "#Comparison Operators on boolean values\n",
    "#Take two different boolean values.\n",
    "#Store them in two different variables.\n",
    "#Do below operations on them:-\n",
    "    #Compare these two values with below operator:-\n",
    "        #Greater than, '>'\n",
    "        #less than, '<'\n",
    "        #Greater than or equal to, '>='\n",
    "        #Less than or equal to, '<='\n",
    "#Observe their output(return type should be boolean)"
   ]
  },
  {
   "cell_type": "code",
   "execution_count": 7,
   "metadata": {},
   "outputs": [
    {
     "name": "stdout",
     "output_type": "stream",
     "text": [
      "False\n",
      "False\n",
      "True\n",
      "True\n"
     ]
    }
   ],
   "source": [
    "a = bool(30)\n",
    "b = bool(20)\n",
    "print(a>b)\n",
    "print(a<b)\n",
    "print(a>=b)\n",
    "print(a<=b)"
   ]
  },
  {
   "cell_type": "code",
   "execution_count": null,
   "metadata": {},
   "outputs": [],
   "source": [
    "#Equality Operator\n",
    "#Take two different boolean values.\n",
    "#Store them in two different variables.\n",
    "#Equuate them using equality operator (==, !=)\n",
    "#Observe the output(return type should be boolean)"
   ]
  },
  {
   "cell_type": "code",
   "execution_count": 8,
   "metadata": {},
   "outputs": [
    {
     "name": "stdout",
     "output_type": "stream",
     "text": [
      "True\n",
      "False\n"
     ]
    }
   ],
   "source": [
    "a = bool(10)\n",
    "b = bool(10)\n",
    "print(a==b)\n",
    "print(a!=b)"
   ]
  },
  {
   "cell_type": "code",
   "execution_count": 26,
   "metadata": {},
   "outputs": [
    {
     "name": "stdout",
     "output_type": "stream",
     "text": [
      "20\n",
      "0\n",
      "0\n",
      "0\n",
      "10\n",
      "20\n",
      "20\n",
      "0\n",
      "False\n",
      "False\n"
     ]
    }
   ],
   "source": [
    "#Logical operators\n",
    "#Observe the output of below code\n",
    "#Cross check the output manually\n",
    "\n",
    "print(10 and 20)        #----------------------------------------->Output is 20\n",
    "print(0 and 20)        #----------------------------------------->Output is 0\n",
    "print(20 and 0)        #----------------------------------------->Output is 0\n",
    "print(0 and 0)       #----------------------------------------->Output is 0\n",
    "\n",
    "print(10 or 0)          #----------------------------------------->Output is 10\n",
    "print(20 or 10)         #----------------------------------------->Output is 20\n",
    "print(20 or 0)         #----------------------------------------->Output is 20\n",
    "print(0 or 0)        #----------------------------------------->Output is 0\n",
    "\n",
    "print(not 20)              #----------------------------------------->Output is False\n",
    "print(not 20)             #----------------------------------------->Output is True"
   ]
  },
  {
   "cell_type": "code",
   "execution_count": 10,
   "metadata": {},
   "outputs": [
    {
     "name": "stdout",
     "output_type": "stream",
     "text": [
      "True\n",
      "False\n",
      "True\n",
      "False\n"
     ]
    }
   ],
   "source": [
    "#What is the output of expression inside print statement. Cross check before running the program.\n",
    "a = True\n",
    "b = True\n",
    "print(a is b)          #True or False?\n",
    "print(a is not b)      #True or False?\n",
    "\n",
    "a = False\n",
    "b = False\n",
    "print(a is b)          #True or False?\n",
    "print(a is not b)      #True or False?\n"
   ]
  },
  {
   "cell_type": "code",
   "execution_count": 11,
   "metadata": {},
   "outputs": [
    {
     "name": "stdout",
     "output_type": "stream",
     "text": [
      "True\n",
      "True\n",
      "True\n",
      "True\n",
      "True\n"
     ]
    }
   ],
   "source": [
    "#Membership operation\n",
    "#in, not in are two membership operators and it returns boolean value\n",
    "\n",
    "print(True in [10,10.20,10+20j,'Python', True])\n",
    "print(False in (10,10.20,10+20j,'Python', False))\n",
    "print(True in {1,2,3, True})\n",
    "print(True in {True:100, False:200, True:300})\n",
    "print(False in {True:100, False:200, True:300})"
   ]
  },
  {
   "cell_type": "code",
   "execution_count": 12,
   "metadata": {},
   "outputs": [
    {
     "data": {
      "text/plain": [
       "True"
      ]
     },
     "execution_count": 12,
     "metadata": {},
     "output_type": "execute_result"
    }
   ],
   "source": [
    "bool(0) or bool(3)"
   ]
  },
  {
   "cell_type": "code",
   "execution_count": null,
   "metadata": {},
   "outputs": [],
   "source": []
  }
 ],
 "metadata": {
  "kernelspec": {
   "display_name": "Python 3",
   "language": "python",
   "name": "python3"
  },
  "language_info": {
   "codemirror_mode": {
    "name": "ipython",
    "version": 3
   },
   "file_extension": ".py",
   "mimetype": "text/x-python",
   "name": "python",
   "nbconvert_exporter": "python",
   "pygments_lexer": "ipython3",
   "version": "3.7.6"
  }
 },
 "nbformat": 4,
 "nbformat_minor": 4
}

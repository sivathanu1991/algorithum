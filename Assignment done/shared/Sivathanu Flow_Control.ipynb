{
 "cells": [
  {
   "cell_type": "code",
   "execution_count": null,
   "metadata": {},
   "outputs": [],
   "source": [
    "#W. A P. which takes one number from 0 to 9 from the user and prints it in the word. And if the word is not from 0 to 9 then\n",
    "#it should print that number is outside of the range and program should exit.\n",
    "# For exapmple:- \n",
    "# input = 1\n",
    "# output = one"
   ]
  },
  {
   "cell_type": "code",
   "execution_count": 8,
   "metadata": {},
   "outputs": [
    {
     "name": "stdout",
     "output_type": "stream",
     "text": [
      "enter the value :9\n",
      "Output = nine\n",
      "Program excecuted\n"
     ]
    }
   ],
   "source": [
    "user_input = eval(input(\"enter the value :\"))\n",
    "if user_input in range(0,10,1):\n",
    "    if user_input == 0:\n",
    "        print(\"Output =  zero\")\n",
    "    if user_input == 1:\n",
    "        print(\"Output = one\")\n",
    "    if user_input == 2:\n",
    "        print(\"Output = two\")            \n",
    "    if user_input == 3:\n",
    "        print(\"Output = three\")\n",
    "    if user_input == 4:\n",
    "        print(\"Output = four\")    \n",
    "    if user_input == 5:\n",
    "        print(\"Output = five\")\n",
    "    if user_input == 6:\n",
    "        print(\"Output = six\")\n",
    "    if user_input == 7:\n",
    "        print(\"Output = seven\")\n",
    "    if user_input == 8:\n",
    "        print(\"Output = eight\")\n",
    "    if user_input == 9:\n",
    "        print(\"Output = nine\")\n",
    "else:\n",
    "    print(\"Given input is out of range\")\n",
    "print(\"Program excecuted\")    \n",
    "        \n",
    "        \n",
    "        "
   ]
  },
  {
   "cell_type": "code",
   "execution_count": null,
   "metadata": {},
   "outputs": [],
   "source": [
    "#W. A P. to implement calculator but the operation to be done and two numbers will be taken as input from user:-\n",
    "#Operation console should show below:-\n",
    "#     Please select any one operation from below:-\n",
    "#         * To add enter 1\n",
    "#         * to subtract enter 2\n",
    "#         * To multiply enter 3\n",
    "#         * To divide enter 4\n",
    "#         * To divide and find quotient enter 5\n",
    "#         * To divide and find remainder enter 6\n",
    "#         * To divide and find num1 to the power of num2 enter 7\n",
    "#         * To Come out of the program enter 8"
   ]
  },
  {
   "cell_type": "code",
   "execution_count": 9,
   "metadata": {},
   "outputs": [
    {
     "name": "stdout",
     "output_type": "stream",
     "text": [
      "enter the first value10\n",
      "enter the second value3\n",
      "To add 1\n",
      "To subtract enter 2\n",
      "To multiply enter 3\n",
      "To divide enter 4\n",
      "To divide and find quotient enter 5\n",
      "To divide and find remainder enter 6\n",
      "To divide and find num1 to the power of num2 enter 7\n",
      "To Come out of the program enter 8\n",
      "\n",
      "select option5\n",
      "3\n",
      "thanks\n"
     ]
    }
   ],
   "source": [
    "import math\n",
    "a = int(input(\"enter the first value\"))\n",
    "b = int(input(\"enter the second value\"))\n",
    "print(\"\"\"To add 1\n",
    "To subtract enter 2\n",
    "To multiply enter 3\n",
    "To divide enter 4\n",
    "To divide and find quotient enter 5\n",
    "To divide and find remainder enter 6\n",
    "To divide and find num1 to the power of num2 enter 7\n",
    "To Come out of the program enter 8\n",
    "\"\"\")\n",
    "def add():\n",
    "    return a+b\n",
    "def sub():\n",
    "    return a-b\n",
    "def mult():\n",
    "    return a*b\n",
    "def div():\n",
    "    return a/b\n",
    "def quo():\n",
    "    return math.floor(a/b)\n",
    "def remin():\n",
    "    return a%b\n",
    "def powe():\n",
    "    return a**b\n",
    "c = int(input(\"select option\"))\n",
    "if c == 1:\n",
    "    print(add())\n",
    "if c == 2:\n",
    "    print(sub())\n",
    "if c == 3:\n",
    "    print(mul())\n",
    "if c == 4:\n",
    "    print(div())\n",
    "if c == 5:\n",
    "    print(quo())\n",
    "if c == 6:\n",
    "    print(remin())\n",
    "if c == 7:\n",
    "    print(powe())\n",
    "if c == 8:\n",
    "    print(\"Program end\")\n",
    "print(\"thanks\")\n",
    "\n"
   ]
  },
  {
   "cell_type": "code",
   "execution_count": null,
   "metadata": {},
   "outputs": [],
   "source": [
    "#W A P to check whether a year entered by user is an leap year or not?\n",
    "#Check with below input:-\n",
    "    #leap year:- 2012, 1968, 2004, 1200, 1600,2400\n",
    "    #Non-lear year:- 1971, 2006, 1700,1800,1900"
   ]
  },
  {
   "cell_type": "code",
   "execution_count": 10,
   "metadata": {},
   "outputs": [
    {
     "name": "stdout",
     "output_type": "stream",
     "text": [
      "enter a year : 2012\n",
      "the entered year 2012 is not a leap year\n",
      "..end....\n"
     ]
    }
   ],
   "source": [
    "a = int(input(\"enter a year : \"))\n",
    "if a%4 == 0:\n",
    "    if a%100 == 0 and a%400 == 0:\n",
    "        print(f'the entered year {a} is a leap year')\n",
    "    else:\n",
    "        print(f'the entered year {a} is not a leap year')\n",
    "else:\n",
    "    print(f'the entered year {a} is not a leap year')\n",
    "print(\"..end....\")"
   ]
  },
  {
   "cell_type": "code",
   "execution_count": null,
   "metadata": {},
   "outputs": [],
   "source": [
    "\n",
    "#W A P which takes one number from the user and checks whether it is an even or odd number?, If it even then prints number is \n",
    "#even number else prints that number is odd number."
   ]
  },
  {
   "cell_type": "code",
   "execution_count": 11,
   "metadata": {},
   "outputs": [
    {
     "name": "stdout",
     "output_type": "stream",
     "text": [
      "enter the value13\n",
      "Given number 13 is a odd number\n"
     ]
    }
   ],
   "source": [
    "a = int(input(\"enter the value\"))\n",
    "if a%2 == 0:\n",
    "    print(f'Given number {a} is a even number')\n",
    "else:\n",
    "    print(f'Given number {a} is a odd number')\n",
    "    "
   ]
  },
  {
   "cell_type": "code",
   "execution_count": null,
   "metadata": {},
   "outputs": [],
   "source": [
    "#W A P which takes two numbers from the user and prints below output:-\n",
    "#     1. num1 is greater than num2 if num1 is greater than num2\n",
    "#     2. num1 is smaller than num2 if num1 is smaller than num2\n",
    "#     3. num1 is equal to num2 if num1 and num2 are equal\n",
    "\n",
    "#Note:- 1. Do this problem using if - else \n",
    "#       2. Do this using ternary operator\n",
    "\n"
   ]
  },
  {
   "cell_type": "code",
   "execution_count": 12,
   "metadata": {},
   "outputs": [
    {
     "name": "stdout",
     "output_type": "stream",
     "text": [
      "Enter the first value : 100\n",
      "Enter the second value : 120\n",
      "num1 100 is smaller than num2 120\n"
     ]
    }
   ],
   "source": [
    "a = int(input(\"Enter the first value : \"))\n",
    "b = int(input(\"Enter the second value : \"))\n",
    "if a>b:\n",
    "    print(f'num1 {a} is greater than num2 {b}')\n",
    "elif a<b:\n",
    "    print(f'num1 {a} is smaller than num2 {b}')\n",
    "else:\n",
    "    print(f'num1 {a} and num2 {b} both are equal')\n"
   ]
  },
  {
   "cell_type": "code",
   "execution_count": null,
   "metadata": {},
   "outputs": [],
   "source": [
    "#W A P which takes three numbers from the user and prints below output:-\n",
    "#     1. num1 is greater than num2 and num3 if num1 is greater than num2 and num3\n",
    "#     2. num2 is greater than num1 and num3 if num2 is greater than num1 and num3\n",
    "#     3. num3 is greater than num1 and num2 if num3 is greater than num1 and num2\n",
    "\n",
    "#Note:- 1. Do this problem using if - elif - else \n",
    "#       2. Do this using ternary operator"
   ]
  },
  {
   "cell_type": "code",
   "execution_count": 13,
   "metadata": {},
   "outputs": [
    {
     "name": "stdout",
     "output_type": "stream",
     "text": [
      "Enter the first number150\n",
      "Enter the second number100\n",
      "Enter the third value120\n",
      "num1 150 is greater than num2 100 and num3120\n"
     ]
    }
   ],
   "source": [
    "a = int(input(\"Enter the first number\"))\n",
    "b = int(input(\"Enter the second number\"))\n",
    "c = int(input(\"Enter the third value\"))\n",
    "if a>b and a>c:\n",
    "    print(f'num1 {a} is greater than num2 {b} and num3{c}')\n",
    "elif b>a and b>c:\n",
    "    print(f'num2 {b} is greater than num1 {a} and num3{c}')\n",
    "else:\n",
    "    print(f'num3 {c} is greater than num1 {a} and num2{b}')"
   ]
  },
  {
   "cell_type": "code",
   "execution_count": null,
   "metadata": {},
   "outputs": [],
   "source": [
    "#Write a Python program to find the length of the my_str using loop:-\n",
    "\n",
    "#Input:- 'Write a Python program to find the length of the my_str'\n",
    "#Output:- 55\n"
   ]
  },
  {
   "cell_type": "code",
   "execution_count": 14,
   "metadata": {},
   "outputs": [
    {
     "name": "stdout",
     "output_type": "stream",
     "text": [
      "55\n"
     ]
    }
   ],
   "source": [
    "a = 'Write a Python program to find the length of the my_str'\n",
    "b = 0\n",
    "for n in a:\n",
    "    b = b+1\n",
    "print(b)"
   ]
  },
  {
   "cell_type": "code",
   "execution_count": null,
   "metadata": {},
   "outputs": [],
   "source": [
    "#Write a Python program to find the total number of times letter 'p' is appeared in the below string using loop:-\n",
    "    \n",
    "#Input:- 'peter piper picked a peck of pickled peppers.'\n",
    "#Output:- 9\n",
    "\n"
   ]
  },
  {
   "cell_type": "code",
   "execution_count": 1,
   "metadata": {},
   "outputs": [
    {
     "name": "stdout",
     "output_type": "stream",
     "text": [
      "9\n"
     ]
    }
   ],
   "source": [
    "a = 'peter piper picked a peck of pickled peppers.'\n",
    "b = 0\n",
    "for n in a:\n",
    "    if n == 'p':\n",
    "        b=b+1\n",
    "print(b)"
   ]
  },
  {
   "cell_type": "code",
   "execution_count": null,
   "metadata": {},
   "outputs": [],
   "source": [
    "#Write a Python Program, to print all the indexes of all occurences of letter 'p' appeared in the string using loop:-\n",
    "    \n",
    "#Input:- 'peter piper picked a peck of pickled peppers.'\n",
    "#Output:- \n",
    "# 0\n",
    "# 6\n",
    "# 8\n",
    "# 12\n",
    "# 21\n",
    "# 29\n",
    "# 37\n",
    "# 39\n",
    "# 40"
   ]
  },
  {
   "cell_type": "code",
   "execution_count": 1,
   "metadata": {},
   "outputs": [
    {
     "name": "stdout",
     "output_type": "stream",
     "text": [
      "0\n",
      "6\n",
      "8\n",
      "12\n",
      "21\n",
      "29\n",
      "37\n",
      "39\n",
      "40\n"
     ]
    }
   ],
   "source": [
    "a = 'peter piper picked a peck of pickled peppers.'\n",
    "i = 0\n",
    "while i<len(a):\n",
    "    for n in a:\n",
    "        if n == 'p':\n",
    "            print(i)\n",
    "        i = i+1     \n"
   ]
  },
  {
   "cell_type": "code",
   "execution_count": null,
   "metadata": {},
   "outputs": [],
   "source": [
    "#Write a python program to find below output using loop:-\n",
    "\n",
    "#Input:- 'peter piper picked a peck of pickled peppers.'\n",
    "#Output:- ['peter', 'piper', 'picked', 'a', 'peck', 'of', 'pickled', 'peppers']"
   ]
  },
  {
   "cell_type": "code",
   "execution_count": 1,
   "metadata": {},
   "outputs": [
    {
     "name": "stdout",
     "output_type": "stream",
     "text": [
      "['peter', 'piper', 'picked', 'a', 'peck', 'of', 'pickled', 'peppers']\n"
     ]
    }
   ],
   "source": [
    "a = 'peter piper picked a peck of pickled peppers.'\n",
    "word = \"\"\n",
    "list = []\n",
    "for n in a:\n",
    "    if n == \" \" or n == \".\":\n",
    "        list.append(word)\n",
    "        word = \"\"\n",
    "    else:\n",
    "        word = word+n\n",
    "print(list)\n"
   ]
  },
  {
   "cell_type": "code",
   "execution_count": null,
   "metadata": {},
   "outputs": [],
   "source": [
    "#Write a python program to find below output using loop:-\n",
    "\n",
    "#Input:- 'peter piper picked a peck of pickled peppers.'\n",
    "#Output:- 'peppers pickled of peck a picked piper peter'"
   ]
  },
  {
   "cell_type": "code",
   "execution_count": null,
   "metadata": {},
   "outputs": [],
   "source": []
  },
  {
   "cell_type": "code",
   "execution_count": null,
   "metadata": {},
   "outputs": [],
   "source": [
    "#Write a python program to implement replace method using loop. If sub_str is found in my_str then it will replace the first \n",
    "#occurrence of sub_str with new_str else it will will print sub_str not found:-\n",
    "\n",
    "#Input:- my_str = 'Peter Piper Picked A Peck Of Pickled Peppers.', sub_str = 'Peck', new_str = 'Pack'\n",
    "#Output:- 'Peter Piper Picked A Pack Of Pickled Peppers.'"
   ]
  },
  {
   "cell_type": "code",
   "execution_count": 2,
   "metadata": {},
   "outputs": [
    {
     "name": "stdout",
     "output_type": "stream",
     "text": [
      "Peter Piper Picked A Pack Of Pickled Peppers.\n"
     ]
    }
   ],
   "source": [
    "a = 'Peter Piper Picked A Peck Of Pickled Peppers.'\n",
    "i = 0\n",
    "word = \"\"\n",
    "while i<len(a):\n",
    "    if a[i] == \"e\" and a[i-1] == \"P\" and a[i+1] == \"c\":\n",
    "        word = word+\"a\"\n",
    "    else:\n",
    "        word = word+a[i]\n",
    "    i = i+1\n",
    "print(word)"
   ]
  },
  {
   "cell_type": "code",
   "execution_count": null,
   "metadata": {},
   "outputs": [],
   "source": [
    "#Write a python program to find below output (implements rjust and ljust) using loop:-\n",
    "\n",
    "#Input:- 'Peter Piper Picked A Peck Of Pickled Peppers.', sub_str = 'Peck', \n",
    "#Output:- '*********************Peck********************'\n"
   ]
  },
  {
   "cell_type": "code",
   "execution_count": 1,
   "metadata": {},
   "outputs": [
    {
     "name": "stdout",
     "output_type": "stream",
     "text": [
      "*********************Peck***********************\n"
     ]
    }
   ],
   "source": [
    "a = 'Peter Piper Picked A Peck Of Pickled Peppers.'\n",
    "i = 0\n",
    "word = \"\"\n",
    "while i<len(a):\n",
    "    if a[i] == \"P\" and a[i+1] == \"e\" and a[i+2] == \"c\" and a[i+3] == \"k\":\n",
    "        word = word + a[i]+a[i+1]+a[i+2]+a[i+3]\n",
    "    else:\n",
    "        word = word + \"*\"\n",
    "    i = i+1\n",
    "print(word)\n"
   ]
  },
  {
   "cell_type": "code",
   "execution_count": 2,
   "metadata": {},
   "outputs": [
    {
     "name": "stdout",
     "output_type": "stream",
     "text": [
      ".sreppep delkcip fo kcep a dekcip repip retep\n"
     ]
    }
   ],
   "source": [
    "a = 'peter piper picked a peck of pickled peppers.'\n",
    "i = -1\n",
    "word = \"\"\n",
    "while i >= -len(a):\n",
    "    word = word+a[i]\n",
    "    i = i-1\n",
    "print((word))"
   ]
  },
  {
   "cell_type": "code",
   "execution_count": null,
   "metadata": {},
   "outputs": [],
   "source": [
    "#Write a python program to find below output using loop:-\n",
    "#Input:- 'peter piper picked a peck of pickled peppers.'\n",
    "#Output:- 'retep repip dekcip a kcep fo delkcip sreppep'"
   ]
  },
  {
   "cell_type": "code",
   "execution_count": 3,
   "metadata": {},
   "outputs": [
    {
     "name": "stdout",
     "output_type": "stream",
     "text": [
      "peter piper picked A peck of pickled peppers.\n"
     ]
    }
   ],
   "source": [
    "a = \"peter piper picked a peck of pickled peppers.\"\n",
    "i = 0\n",
    "word = \"\"\n",
    "while i<len(a):\n",
    "    if a[i] == \"a\":\n",
    "        word = word+\"A\"\n",
    "    else:\n",
    "        word = word+a[i]\n",
    "    i = i+1\n",
    "print(word)"
   ]
  },
  {
   "cell_type": "code",
   "execution_count": null,
   "metadata": {},
   "outputs": [],
   "source": [
    "#Write a python program to find below output using loop:-\n",
    "\n",
    "#Input:- 'peter piper picked a peck of pickled peppers.'\n",
    "#Output:- 'Peter Piper Picked A Peck Of Pickled Peppers'"
   ]
  },
  {
   "cell_type": "code",
   "execution_count": 4,
   "metadata": {},
   "outputs": [
    {
     "name": "stdout",
     "output_type": "stream",
     "text": [
      "peter piper picked a peck of pickled peppers.\n"
     ]
    }
   ],
   "source": [
    "a = \"peter piper picked A peck of pickled peppers.\"\n",
    "i = 0\n",
    "word = \"\"\n",
    "while i<len(a):\n",
    "    if a[i] == \"A\":\n",
    "        word = word+\"a\"\n",
    "    else:\n",
    "        word = word+a[i]\n",
    "    i = i+1\n",
    "print(word)"
   ]
  },
  {
   "cell_type": "code",
   "execution_count": null,
   "metadata": {},
   "outputs": [],
   "source": [
    "#Write a python program to implement index method using loop. If sub_str is found in my_str then it will print the index\n",
    "# of first occurrence of first character of matching string in my_str:-\n",
    "\n",
    "#Input:- my_str = 'Peter Piper Picked A Peck Of Pickled Peppers.', sub_str = 'Pickl'\n",
    "#Output:- 29"
   ]
  },
  {
   "cell_type": "code",
   "execution_count": 1,
   "metadata": {},
   "outputs": [],
   "source": [
    "# a = 'Peter Piper Picked A Peck Of Pickled Peppers.'\n",
    "# # b = 'Pickl'\n",
    "# i = 0\n",
    "# # j = 0\n",
    "# while i<len(a):\n",
    "#     if a[i] == \"p\" and a[i+1] == \"i\" and a[i+2] == \"c\":\n",
    "#         print(i)\n",
    "#     else:\n",
    "#         pass\n",
    "#     i = i+1"
   ]
  },
  {
   "cell_type": "code",
   "execution_count": null,
   "metadata": {},
   "outputs": [],
   "source": [
    "#Write a python program to find below output using loop:-\n",
    "\n",
    "#Input:- 'peter piper picked a peck of pickled peppers.'\n",
    "#Output:- 'peppers pickled of peck a picked piper peter'\n"
   ]
  },
  {
   "cell_type": "code",
   "execution_count": 2,
   "metadata": {},
   "outputs": [
    {
     "name": "stdout",
     "output_type": "stream",
     "text": [
      "peppers pickled of peck a picked piper peter \n"
     ]
    }
   ],
   "source": [
    "a = 'peter piper picked a peck of pickled peppers.'\n",
    "list = []\n",
    "wod = \"\"\n",
    "wod2 = \"\"\n",
    "for i in a:\n",
    "    if i == \" \" or i == \".\":\n",
    "        list.append(wod)\n",
    "        wod = ''\n",
    "    else:\n",
    "        wod = wod+i\n",
    "list2 = list[::-1]\n",
    "for j in list2:\n",
    "    wod2 = wod2+j+\" \"\n",
    "print(wod2)"
   ]
  },
  {
   "cell_type": "code",
   "execution_count": null,
   "metadata": {},
   "outputs": [],
   "source": [
    "#Write a python program to find below output using loop:-\n",
    "\n",
    "#Input:- 'peter piper picked a peck of pickled peppers.'\n",
    "#Output:- 'retep repip dekcip a kcep fo delkcip sreppep'\n"
   ]
  },
  {
   "cell_type": "code",
   "execution_count": 3,
   "metadata": {},
   "outputs": [
    {
     "name": "stdout",
     "output_type": "stream",
     "text": [
      "retep repip dekcip a kcep fo delkcip sreppep \n"
     ]
    }
   ],
   "source": [
    "a = 'peter piper picked a peck of pickled peppers.'\n",
    "word1 = ''\n",
    "word = \"\"\n",
    "for i in a:\n",
    "    if i == \" \" or i == \".\":\n",
    "        word1 = word1 + word[::-1] + \" \"\n",
    "        word = \"\"\n",
    "    else:\n",
    "        word = word + i\n",
    "print(word1)"
   ]
  },
  {
   "cell_type": "code",
   "execution_count": null,
   "metadata": {},
   "outputs": [],
   "source": [
    "#Write a python program to find below output (implement partition and rpartition) using loop:-\n",
    "\n",
    "#Input:- 'This is Python class', sep = 'Peck', \n",
    "#Output:- ['This', 'is', 'Python class']\n"
   ]
  },
  {
   "cell_type": "code",
   "execution_count": 5,
   "metadata": {},
   "outputs": [
    {
     "name": "stdout",
     "output_type": "stream",
     "text": [
      "['This', 'is', 'Python class']\n"
     ]
    }
   ],
   "source": [
    "a = 'This is Python class '\n",
    "list = []\n",
    "list2 = []\n",
    "word = \"\"\n",
    "word2 = \"\"\n",
    "for i in a:\n",
    "    if i == \" \":\n",
    "        list.append(word)\n",
    "        word = \"\"\n",
    "    else:\n",
    "        word = word+i\n",
    "# print(list)\n",
    "for j in list:\n",
    "    if j in \"Python\":\n",
    "        word2 = word2+j+\" \"\n",
    "    elif j in \"class\":\n",
    "        word2 = word2+j\n",
    "        list2.append(word2)\n",
    "    else:\n",
    "        list2.append(j)\n",
    "print(list2)\n",
    "            \n",
    "    "
   ]
  },
  {
   "cell_type": "code",
   "execution_count": null,
   "metadata": {},
   "outputs": [],
   "source": []
  }
 ],
 "metadata": {
  "kernelspec": {
   "display_name": "Python 3",
   "language": "python",
   "name": "python3"
  },
  "language_info": {
   "codemirror_mode": {
    "name": "ipython",
    "version": 3
   },
   "file_extension": ".py",
   "mimetype": "text/x-python",
   "name": "python",
   "nbconvert_exporter": "python",
   "pygments_lexer": "ipython3",
   "version": "3.7.6"
  }
 },
 "nbformat": 4,
 "nbformat_minor": 4
}
